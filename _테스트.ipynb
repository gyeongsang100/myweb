{
  "nbformat": 4,
  "nbformat_minor": 0,
  "metadata": {
    "colab": {
      "provenance": [],
      "authorship_tag": "ABX9TyOlmJSYvxRZ6caB9LpC/Rfl",
      "include_colab_link": true
    },
    "kernelspec": {
      "name": "python3",
      "display_name": "Python 3"
    },
    "language_info": {
      "name": "python"
    }
  },
  "cells": [
    {
      "cell_type": "markdown",
      "metadata": {
        "id": "view-in-github",
        "colab_type": "text"
      },
      "source": [
        "<a href=\"https://colab.research.google.com/github/gyeongsang100/myweb/blob/main/_%ED%85%8C%EC%8A%A4%ED%8A%B8.ipynb\" target=\"_parent\"><img src=\"https://colab.research.google.com/assets/colab-badge.svg\" alt=\"Open In Colab\"/></a>"
      ]
    },
    {
      "cell_type": "code",
      "source": [
        "print(1)\n",
        "print(2)\n",
        "print(3)\n",
        "print(4)\n",
        "print(5)\n",
        "print(6)\n",
        "print(7)\n",
        "print(8)\n",
        "print(9)\n",
        "print(10)"
      ],
      "metadata": {
        "id": "9DhXswZQZC_Y",
        "colab": {
          "base_uri": "https://localhost:8080/"
        },
        "outputId": "f40cbf96-4060-4253-9b7c-92577be641d9"
      },
      "execution_count": null,
      "outputs": [
        {
          "output_type": "stream",
          "name": "stdout",
          "text": [
            "1\n",
            "2\n",
            "3\n",
            "4\n",
            "5\n",
            "6\n",
            "7\n",
            "8\n",
            "9\n",
            "10\n"
          ]
        }
      ]
    },
    {
      "cell_type": "code",
      "source": [
        "for a in range(1, 11, 1):\n",
        "  print(a)"
      ],
      "metadata": {
        "id": "KVKMWPy8_np1"
      },
      "execution_count": null,
      "outputs": []
    }
  ]
}